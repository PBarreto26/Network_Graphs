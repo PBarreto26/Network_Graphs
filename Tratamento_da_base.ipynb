{
 "cells": [
  {
   "cell_type": "markdown",
   "id": "59b63234-973e-4853-b406-5f34963e38bd",
   "metadata": {
    "jp-MarkdownHeadingCollapsed": true,
    "tags": []
   },
   "source": [
    "# Importando Bilbiotecas"
   ]
  },
  {
   "cell_type": "code",
   "execution_count": 1,
   "id": "ee816cf2",
   "metadata": {
    "id": "ee816cf2"
   },
   "outputs": [],
   "source": [
    "import pandas as pd\n",
    "import numpy as np\n",
    "import warnings\n",
    "warnings.filterwarnings('ignore')"
   ]
  },
  {
   "cell_type": "markdown",
   "id": "c61cf937-cc28-4382-987c-2075376cfb73",
   "metadata": {
    "jp-MarkdownHeadingCollapsed": true,
    "tags": []
   },
   "source": [
    "# Abrindo o arquivo movie_actors_names_dists com o Pandas"
   ]
  },
  {
   "cell_type": "code",
   "execution_count": 2,
   "id": "f406f96f",
   "metadata": {
    "id": "f406f96f"
   },
   "outputs": [],
   "source": [
    "my_col = [\"indice\", \"Name\", \"d0\", \"d1\", \"d2\", \"d3\", \"d4\", \"d5\", \"d6\", \"d7\", \"d8\", \"d9\", \"d10\", \"d11\", \"d12\", \"d13\", \"d14\", \"d15\", \"d16\", \"d17\"]\n",
    "main_names = pd.read_csv(\"movie_actors_names_dists.txt\", sep = ' ', header=None, names=my_col, encoding = \"ISO-8859-1\", low_memory=False)"
   ]
  },
  {
   "cell_type": "code",
   "execution_count": 3,
   "id": "jwbqjT--X61P",
   "metadata": {
    "colab": {
     "base_uri": "https://localhost:8080/",
     "height": 330
    },
    "id": "jwbqjT--X61P",
    "outputId": "fd516543-7614-4293-e4c0-bdc4007f85d0"
   },
   "outputs": [],
   "source": [
    "main_names = main_names.drop(['indice'], axis=1)"
   ]
  },
  {
   "cell_type": "markdown",
   "id": "c29297c5-7023-4123-be78-26ed906cdff7",
   "metadata": {
    "tags": []
   },
   "source": [
    "# Tratando a base de dados"
   ]
  },
  {
   "cell_type": "markdown",
   "id": "9472d17e-52ba-4410-a4a1-10f379467c2b",
   "metadata": {
    "jp-MarkdownHeadingCollapsed": true,
    "tags": []
   },
   "source": [
    "## Tratando dados que vieram com a coluna 'd0' junta ao 'Name'"
   ]
  },
  {
   "cell_type": "code",
   "execution_count": 4,
   "id": "a0cac31f-87f7-470b-a7e3-c99dff9ab48c",
   "metadata": {},
   "outputs": [],
   "source": [
    "for i in range(0,6):\n",
    "    main_names[f'text{i}'] = main_names[f'd{i}'].str.extract(f'(?P<text{i}>\\D+)')\n",
    "    main_names[f'd{i}']    = main_names[f'd{i}'].str.extract(f'(?P<d{i}>\\d+)')"
   ]
  },
  {
   "cell_type": "markdown",
   "id": "a1f19ac4-62bc-42c3-bbb8-15aeaf05a424",
   "metadata": {
    "tags": []
   },
   "source": [
    "## Tratando dados que vieram com o nome propagado para outras coluna ('d0', 'd1', 'd2', 'd3', 'd4', 'd5')"
   ]
  },
  {
   "cell_type": "code",
   "execution_count": 5,
   "id": "53dc6498-fef5-405d-8129-3b4932ca6f5e",
   "metadata": {},
   "outputs": [],
   "source": [
    "for i in main_names.index:\n",
    "    if   pd.notna(main_names.text5[i]) and main_names.text5[i] != 'nan':\n",
    "        main_names['Name'][i] = str(main_names['Name'][i]) + ' ' + str(main_names['text0'][i]) + ' ' + str(main_names['text1'][i]) + ' ' + str(main_names['text2'][i]) + ' ' + str(main_names['text3'][i]) + ' ' + str(main_names['text4'][i]) + ' ' + str(main_names['text5'][i])\n",
    "    elif pd.notna(main_names.text4[i]) and main_names.text4[i] != 'nan':\n",
    "        main_names['Name'][i] = str(main_names['Name'][i]) + ' ' + str(main_names['text0'][i]) + ' ' + str(main_names['text1'][i]) + ' ' + str(main_names['text2'][i]) + ' ' + str(main_names['text3'][i]) + ' ' + str(main_names['text4'][i])\n",
    "    elif pd.notna(main_names.text3[i]) and main_names.text3[i] != 'nan':\n",
    "        main_names['Name'][i] = str(main_names['Name'][i]) + ' ' + str(main_names['text0'][i]) + ' ' + str(main_names['text1'][i]) + ' ' + str(main_names['text2'][i]) + ' ' + str(main_names['text3'][i])\n",
    "    elif pd.notna(main_names.text2[i]) and main_names.text2[i] != 'nan':\n",
    "        main_names['Name'][i] = str(main_names['Name'][i]) + ' ' + str(main_names['text0'][i]) + ' ' + str(main_names['text1'][i]) + ' ' + str(main_names['text2'][i])\n",
    "    elif pd.notna(main_names.text1[i]) and main_names.text1[i] != 'nan':\n",
    "        main_names['Name'][i] = str(main_names['Name'][i]) + ' ' + str(main_names['text0'][i]) + ' ' + str(main_names['text1'][i])\n",
    "    elif pd.notna(main_names.text0[i]) and main_names.text0[i] != 'nan':\n",
    "        main_names['Name'][i] = str(main_names['Name'][i]) + ' ' + str(main_names['text0'][i])"
   ]
  },
  {
   "cell_type": "code",
   "execution_count": 6,
   "id": "15060b78-ee9e-414b-9823-06bf30cd9df7",
   "metadata": {},
   "outputs": [],
   "source": [
    "main_names.drop(columns=['text0', 'text1', 'text2', 'text3', 'text4', 'text5'], axis=0, inplace=True)"
   ]
  },
  {
   "cell_type": "markdown",
   "id": "5add5d9c-a69b-4e93-870f-0de18830ba23",
   "metadata": {
    "jp-MarkdownHeadingCollapsed": true,
    "tags": []
   },
   "source": [
    "## Garantindo que d0 é 1 para todos"
   ]
  },
  {
   "cell_type": "code",
   "execution_count": 7,
   "id": "4e23a953-1028-4482-9f8d-05a67f7fd30a",
   "metadata": {},
   "outputs": [
    {
     "data": {
      "text/plain": [
       "array([nan, 1, nan, ..., 1, 1, 1], dtype=object)"
      ]
     },
     "execution_count": 7,
     "metadata": {},
     "output_type": "execute_result"
    }
   ],
   "source": [
    "np.where(main_names['d1'] != '1', main_names['d0'], 1)"
   ]
  },
  {
   "cell_type": "markdown",
   "id": "550f0c00-ef1f-4104-b436-b69751a2833a",
   "metadata": {},
   "source": [
    "## Trazendo as colunas com os nomes propagados para as suas devidas colunas. Ex: d0 = 'Bacon' e d1 = 1, ajustando para Name = 'Bacon, Kevin' e d0 = 1 e assim sucessivamente"
   ]
  },
  {
   "cell_type": "code",
   "execution_count": 8,
   "id": "3c4b375a-a1a5-494f-a791-56c6461466db",
   "metadata": {},
   "outputs": [],
   "source": [
    "for i in range(0, len(main_names)):\n",
    "    if main_names.iloc[i][1:7].isnull().values.all() == True or main_names.iloc[i][1:7].all() == 'nan':\n",
    "        for j in range(0,13):\n",
    "            main_names[f'd{j}'][i] = main_names[f'd{j + 5}'][i]"
   ]
  },
  {
   "cell_type": "code",
   "execution_count": 9,
   "id": "028d266e-fff2-4294-9a7a-61d876face08",
   "metadata": {},
   "outputs": [],
   "source": [
    "for i in range(0, len(main_names)):\n",
    "    if main_names.iloc[i][1:6].isnull().values.all() == True or main_names.iloc[i][1:6].all() == 'nan':\n",
    "        for j in range(0,14):\n",
    "            main_names[f'd{j}'][i] = main_names[f'd{j + 4}'][i]"
   ]
  },
  {
   "cell_type": "code",
   "execution_count": 10,
   "id": "ab830a4e-bbcb-4f80-8822-9fa229a46711",
   "metadata": {},
   "outputs": [],
   "source": [
    "for i in range(0, len(main_names)):\n",
    "    if main_names.iloc[i][1:5].isnull().values.all() == True or main_names.iloc[i][1:5].all() == 'nan':\n",
    "        for j in range(0,15):\n",
    "            main_names[f'd{j}'][i] = main_names[f'd{j + 3}'][i]"
   ]
  },
  {
   "cell_type": "code",
   "execution_count": 11,
   "id": "22bb0c72-9b17-4878-b8ea-1acbabc8c312",
   "metadata": {},
   "outputs": [],
   "source": [
    "for i in range(0, len(main_names)):\n",
    "    if main_names.iloc[i][1:4].isnull().values.all() == True or main_names.iloc[i][1:4].all() == 'nan':\n",
    "        for j in range(0,16):\n",
    "            main_names[f'd{j}'][i] = main_names[f'd{j + 2}'][i]"
   ]
  },
  {
   "cell_type": "code",
   "execution_count": 12,
   "id": "b6fe601f-9383-43e2-a2bc-0b3b67f39564",
   "metadata": {},
   "outputs": [],
   "source": [
    "for i in range(0, len(main_names)):\n",
    "    if main_names.iloc[i][1:3].isnull().values.all() == True or main_names.iloc[i][1:3].all() == 'nan':\n",
    "        for j in range(0,17):\n",
    "            main_names[f'd{j}'][i] = main_names[f'd{j + 1}'][i]"
   ]
  },
  {
   "cell_type": "code",
   "execution_count": null,
   "id": "15e5506b-f0bf-4299-8a9c-27a8b9d9c29b",
   "metadata": {},
   "outputs": [],
   "source": [
    "for i in main_names[main_names['d0'].isna()].index:\n",
    "    for j in range(0,17):\n",
    "        main_names[f'd{j}'][i] = main_names[f'd{j + 1}'][i]"
   ]
  },
  {
   "cell_type": "markdown",
   "id": "c17240ad-f90b-4286-ba2b-b74f8534dbf7",
   "metadata": {},
   "source": [
    "## Apagando linhas onde d1 até d17 tem valor nulo (não tem conexão)"
   ]
  },
  {
   "cell_type": "code",
   "execution_count": null,
   "id": "dc1dd7b0",
   "metadata": {},
   "outputs": [],
   "source": [
    "nulos = []\n",
    "for i in range(0, len(main_names)):\n",
    "    if main_names.iloc[i][3:18].isnull().values.all() == True:\n",
    "        nulos.append(i)"
   ]
  },
  {
   "cell_type": "code",
   "execution_count": null,
   "id": "2a15974c",
   "metadata": {
    "id": "2a15974c"
   },
   "outputs": [],
   "source": [
    "main_names.drop(nulos, axis=0, inplace=True)"
   ]
  },
  {
   "cell_type": "markdown",
   "id": "c6611064-3719-4a3e-adb8-bce32445c737",
   "metadata": {
    "tags": []
   },
   "source": [
    "## Transformando as colunas em float"
   ]
  },
  {
   "cell_type": "code",
   "execution_count": null,
   "id": "ea2c74eb-67d1-4111-9a08-9abcf0d10e2c",
   "metadata": {},
   "outputs": [],
   "source": [
    "for i in range(0,18):\n",
    "    main_names[f'd{i}'] = main_names[f'd{i}'].astype(float)"
   ]
  },
  {
   "cell_type": "markdown",
   "id": "4d6a97b7-4d5e-496b-b2c6-788f02d77500",
   "metadata": {},
   "source": [
    "## Arrumando o nome dos atores para Nome + Último nome"
   ]
  },
  {
   "cell_type": "code",
   "execution_count": null,
   "id": "7122b544-aff0-4da1-ac0c-94ae1656f177",
   "metadata": {},
   "outputs": [],
   "source": [
    "df[['Name', 'Last']] = df['Name'].str.split(', ', expand=True)\n",
    "df['Name'] = df['Last'] + ' ' + df['Name']\n",
    "df = df.drop(columns=['Last'])"
   ]
  },
  {
   "cell_type": "markdown",
   "id": "1cc62f93-5ad5-4016-afa8-ce9b24a6c96a",
   "metadata": {},
   "source": [
    "# Gravando a base tratada em um csv"
   ]
  },
  {
   "cell_type": "code",
   "execution_count": null,
   "id": "a97e4c95-c1f8-416b-a4f2-1b3e8b9c4dfd",
   "metadata": {},
   "outputs": [],
   "source": [
    "# main_names.to_csv('main_names.csv', sep=';')"
   ]
  },
  {
   "cell_type": "markdown",
   "id": "9c885351-38b1-4b9c-b8bd-fd9f3db108f3",
   "metadata": {},
   "source": [
    "# Abrindo o arquivo movie_actors com o Pandas"
   ]
  },
  {
   "cell_type": "code",
   "execution_count": null,
   "id": "67a6b904-eb42-4dba-b4d8-0de6f0fe4694",
   "metadata": {},
   "outputs": [],
   "source": [
    "main_actors = pd.read_csv(\"movie_actors.net\", header=None, sep = ' ')\n",
    "main_actors"
   ]
  },
  {
   "cell_type": "markdown",
   "id": "b0b41851-bc36-4352-a63b-091bc118493e",
   "metadata": {},
   "source": [
    "# Removendo os mesmos atores que foram removidos da outra base"
   ]
  },
  {
   "cell_type": "code",
   "execution_count": null,
   "id": "3b437901-ea52-4e73-9f7a-8f6722fff310",
   "metadata": {},
   "outputs": [],
   "source": [
    "for i in nulos:\n",
    "    main_actors[0] = main_actors[main_actors[0] != i]\n",
    "    main_actors[1] = main_actors[main_actors[1] != i]"
   ]
  },
  {
   "cell_type": "markdown",
   "id": "cd67a21f-b43d-494d-9a5a-f7b7e83a6094",
   "metadata": {
    "tags": []
   },
   "source": [
    "# Gravando a base tratada em um csv"
   ]
  },
  {
   "cell_type": "code",
   "execution_count": null,
   "id": "5b2904c6-58f9-4516-8eaf-631705967684",
   "metadata": {},
   "outputs": [],
   "source": [
    "# main_actors.to_csv('relations.csv', sep=';')"
   ]
  },
  {
   "cell_type": "markdown",
   "id": "79879cf0-ccac-4df7-9992-81eb54319271",
   "metadata": {},
   "source": [
    "# Verificando as gravações"
   ]
  },
  {
   "cell_type": "code",
   "execution_count": null,
   "id": "6a438a2e-08fe-4bf4-8a86-e26ae810417a",
   "metadata": {},
   "outputs": [],
   "source": [
    "df = pd.read_csv(\"main_names.csv\", sep = ';')\n",
    "df1 = pd.read_csv(\"relations.csv\", sep = ';')"
   ]
  },
  {
   "cell_type": "code",
   "execution_count": null,
   "id": "ba4c9fd1-ae1b-4dd8-9397-afbd8e1e5190",
   "metadata": {},
   "outputs": [],
   "source": [
    "df"
   ]
  },
  {
   "cell_type": "code",
   "execution_count": null,
   "id": "fe096dfa-930b-469d-895a-bd0bec2ce5dc",
   "metadata": {},
   "outputs": [],
   "source": [
    "df1"
   ]
  }
 ],
 "metadata": {
  "colab": {
   "name": "Tratamento_de_dados.ipynb",
   "provenance": []
  },
  "kernelspec": {
   "display_name": "Python 3 (ipykernel)",
   "language": "python",
   "name": "python3"
  },
  "language_info": {
   "codemirror_mode": {
    "name": "ipython",
    "version": 3
   },
   "file_extension": ".py",
   "mimetype": "text/x-python",
   "name": "python",
   "nbconvert_exporter": "python",
   "pygments_lexer": "ipython3",
   "version": "3.9.7"
  }
 },
 "nbformat": 4,
 "nbformat_minor": 5
}
